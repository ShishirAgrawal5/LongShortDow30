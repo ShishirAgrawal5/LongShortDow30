{
 "cells": [
  {
   "cell_type": "markdown",
   "metadata": {},
   "source": [
    "### LASSO and Cross Validation"
   ]
  },
  {
   "cell_type": "code",
   "execution_count": 1,
   "metadata": {},
   "outputs": [],
   "source": [
    "import pandas as pd\n",
    "import numpy as np\n",
    "from sklearn.decomposition import PCA\n",
    "from sklearn import linear_model\n",
    "from sklearn.linear_model import LassoCV\n",
    "import matplotlib.pyplot as plt"
   ]
  },
  {
   "cell_type": "code",
   "execution_count": 2,
   "metadata": {},
   "outputs": [],
   "source": [
    "df = pd.read_excel(r'/Users/Downloads/data1.xlsx')"
   ]
  },
  {
   "cell_type": "code",
   "execution_count": 3,
   "metadata": {},
   "outputs": [],
   "source": [
    "training1 = df[df['Date'] <= '12/31/97']\n",
    "training1 = training1.reset_index(drop=True)\n",
    "dates1 = training1['Date']\n",
    "del training1['Date']"
   ]
  },
  {
   "cell_type": "code",
   "execution_count": 4,
   "metadata": {},
   "outputs": [],
   "source": [
    "training2 = df[(df['Date'] >'12/31/97') & (df['Date'] <= '12/31/02' )]\n",
    "training2 = training2.reset_index(drop=True)\n",
    "dates2 = training2['Date']\n",
    "del training2['Date']"
   ]
  },
  {
   "cell_type": "code",
   "execution_count": 5,
   "metadata": {},
   "outputs": [],
   "source": [
    "test = df[df['Date'] > '12/31/02']\n",
    "dates_test = test['Date']\n",
    "test = test.reset_index(drop=True)\n",
    "del test['Date']"
   ]
  },
  {
   "cell_type": "code",
   "execution_count": 6,
   "metadata": {},
   "outputs": [],
   "source": [
    "pca = PCA(.95)\n",
    "principalComponents = pca.fit_transform(training1)\n",
    "principalDf = pd.DataFrame(data = principalComponents)"
   ]
  },
  {
   "cell_type": "code",
   "execution_count": 7,
   "metadata": {},
   "outputs": [],
   "source": [
    "loadings = pd.DataFrame(pca.components_)"
   ]
  },
  {
   "cell_type": "code",
   "execution_count": 13,
   "metadata": {},
   "outputs": [],
   "source": [
    "pca = PCA(n_components=5)\n",
    "principalComponents = pca.fit(training1)\n",
    "results = principalComponents.transform(training2)"
   ]
  },
  {
   "cell_type": "code",
   "execution_count": 14,
   "metadata": {},
   "outputs": [],
   "source": [
    "result = pd.DataFrame(results)"
   ]
  },
  {
   "cell_type": "code",
   "execution_count": 15,
   "metadata": {},
   "outputs": [],
   "source": [
    "depth = list(result.values)"
   ]
  },
  {
   "cell_type": "code",
   "execution_count": 16,
   "metadata": {},
   "outputs": [],
   "source": [
    "res = []\n",
    "for i in range(0, len(depth)- 3):\n",
    "    arr = []\n",
    "    for x in range(0,3):\n",
    "        arr2 = np.concatenate((arr, depth[i+x]))\n",
    "        arr = arr2 \n",
    "    res.append(arr2)"
   ]
  },
  {
   "cell_type": "code",
   "execution_count": 24,
   "metadata": {},
   "outputs": [],
   "source": [
    "output = pd.DataFrame(res)\n",
    "stackedDf =pd.DataFrame()\n",
    "for i in range(0,30):\n",
    "    stackedDf = stackedDf.append(output, ignore_index = True)"
   ]
  },
  {
   "cell_type": "code",
   "execution_count": 25,
   "metadata": {},
   "outputs": [],
   "source": [
    "output_c=pd.DataFrame(output)\n",
    "output_c['Constant']=1"
   ]
  },
  {
   "cell_type": "code",
   "execution_count": 26,
   "metadata": {},
   "outputs": [],
   "source": [
    "big=[]\n",
    "empty=pd.DataFrame(np.zeros((1253,464)))\n",
    "big=pd.concat([output_c,empty], ignore_index=True, axis=1)\n",
    "\n",
    "for i in range(1,30):\n",
    "    temp=pd.DataFrame()\n",
    "    empty1=pd.DataFrame(np.zeros((1253,16*i)))\n",
    "    temp=pd.concat([empty1,output_c],ignore_index=True, axis=1)\n",
    "    empty2=pd.DataFrame(np.zeros((1253,(29-i)*16)))\n",
    "    temp=pd.concat([temp,empty2],ignore_index=True, axis=1)\n",
    "    big=big.append(temp, ignore_index=True)"
   ]
  },
  {
   "cell_type": "code",
   "execution_count": 28,
   "metadata": {},
   "outputs": [
    {
     "data": {
      "text/plain": [
       "[]"
      ]
     },
     "execution_count": 28,
     "metadata": {},
     "output_type": "execute_result"
    }
   ],
   "source": [
    "yValue = [[]]\n",
    "for key, value in training2.iteritems():\n",
    "    yValue.append(value)\n",
    "yValue.pop(0)"
   ]
  },
  {
   "cell_type": "code",
   "execution_count": 29,
   "metadata": {},
   "outputs": [],
   "source": [
    "lst = []\n",
    "mid = []\n",
    "for i in range(0,30):\n",
    "    lst = np.concatenate((mid, yValue[i][-1253:]))\n",
    "    mid = lst"
   ]
  },
  {
   "cell_type": "code",
   "execution_count": 30,
   "metadata": {},
   "outputs": [],
   "source": [
    "big.insert(0, \"yValue\", mid)"
   ]
  },
  {
   "cell_type": "code",
   "execution_count": 33,
   "metadata": {},
   "outputs": [],
   "source": [
    "X_train=big.drop(['yValue'],axis=1)\n",
    "X_train=pd.concat([X_train,stackedDf],ignore_index=True, axis=1)\n",
    "Y_train=pd.DataFrame(mid)"
   ]
  },
  {
   "cell_type": "code",
   "execution_count": 39,
   "metadata": {},
   "outputs": [
    {
     "data": {
      "text/plain": [
       "Lasso(alpha=1.0, copy_X=True, fit_intercept=True, max_iter=1000,\n",
       "   normalize=True, positive=False, precompute=False, random_state=None,\n",
       "   selection='cyclic', tol=0.0001, warm_start=False)"
      ]
     },
     "execution_count": 39,
     "metadata": {},
     "output_type": "execute_result"
    }
   ],
   "source": [
    "lasso = linear_model.Lasso(normalize=True)\n",
    "lasso.fit(X=X_train, y=Y_train)"
   ]
  },
  {
   "cell_type": "code",
   "execution_count": 40,
   "metadata": {
    "scrolled": true
   },
   "outputs": [
    {
     "name": "stderr",
     "output_type": "stream",
     "text": [
      "/Users/shishiragrawal/anaconda2/lib/python2.7/site-packages/sklearn/linear_model/coordinate_descent.py:1109: DataConversionWarning: A column-vector y was passed when a 1d array was expected. Please change the shape of y to (n_samples, ), for example using ravel().\n",
      "  y = column_or_1d(y, warn=True)\n"
     ]
    },
    {
     "data": {
      "text/plain": [
       "LassoCV(alphas=None, copy_X=True, cv=5, eps=0.001, fit_intercept=True,\n",
       "    max_iter=1000, n_alphas=10, n_jobs=None, normalize=False,\n",
       "    positive=False, precompute='auto', random_state=None,\n",
       "    selection='cyclic', tol=0.0001, verbose=False)"
      ]
     },
     "execution_count": 40,
     "metadata": {},
     "output_type": "execute_result"
    }
   ],
   "source": [
    "CV = LassoCV(cv=5, n_alphas=10)\n",
    "CV.fit(X=X_train, y=Y_train)"
   ]
  },
  {
   "cell_type": "code",
   "execution_count": 41,
   "metadata": {},
   "outputs": [
    {
     "name": "stdout",
     "output_type": "stream",
     "text": [
      "('Most optimal lambda :', 6.422481011341182e-07)\n"
     ]
    }
   ],
   "source": [
    "mse_=CV.mse_path_.mean(axis=1)\n",
    "print('Most optimal lambda :', CV.alpha_)"
   ]
  },
  {
   "cell_type": "code",
   "execution_count": 42,
   "metadata": {},
   "outputs": [
    {
     "data": {
      "image/png": "[encoded data removed]",
      "text/plain": [
       "<Figure size 432x288 with 1 Axes>"
      ]
     },
     "metadata": {
      "needs_background": "light"
     },
     "output_type": "display_data"
    }
   ],
   "source": [
    "plt.plot(CV.alphas_, mse_)\n",
    "plt.xlabel('Lambdas')\n",
    "plt.ylabel('MSE')\n",
    "plt.show()"
   ]
  },
  {
   "cell_type": "code",
   "execution_count": 43,
   "metadata": {},
   "outputs": [
    {
     "data": {
      "text/plain": [
       "Lasso(alpha=6.422481011341182e-07, copy_X=True, fit_intercept=True,\n",
       "   max_iter=1000, normalize=True, positive=False, precompute=False,\n",
       "   random_state=None, selection='cyclic', tol=0.0001, warm_start=False)"
      ]
     },
     "execution_count": 43,
     "metadata": {},
     "output_type": "execute_result"
    }
   ],
   "source": [
    "lasso = linear_model.Lasso(alpha=CV.alpha_, normalize=True)\n",
    "lasso.fit(X=X_train, y=Y_train)"
   ]
  },
  {
   "cell_type": "markdown",
   "metadata": {},
   "source": [
    "## Trading Strategy"
   ]
  },
  {
   "cell_type": "code",
   "execution_count": 44,
   "metadata": {},
   "outputs": [],
   "source": [
    "pca = PCA(n_components=5)\n",
    "principalComponents = pca.fit(training1)\n",
    "results_test = principalComponents.transform(test)\n",
    "result = pd.DataFrame(results_test)\n",
    "depth = list(result.values)"
   ]
  },
  {
   "cell_type": "code",
   "execution_count": 45,
   "metadata": {},
   "outputs": [],
   "source": [
    "res = []\n",
    "for i in range(0, len(depth)- 3):\n",
    "    arr = []\n",
    "    for x in range(0,3):\n",
    "        arr2 = np.concatenate((arr, depth[i+x]))\n",
    "        arr = arr2 \n",
    "    res.append(arr2)"
   ]
  },
  {
   "cell_type": "code",
   "execution_count": 46,
   "metadata": {},
   "outputs": [],
   "source": [
    "output = pd.DataFrame(res)\n",
    "stackedDf =pd.DataFrame()\n",
    "for i in range(0,30):\n",
    "    stackedDf = stackedDf.append(output, ignore_index = True)"
   ]
  },
  {
   "cell_type": "code",
   "execution_count": 47,
   "metadata": {},
   "outputs": [],
   "source": [
    "output_c=pd.DataFrame(output)\n",
    "output_c['Constant']=1"
   ]
  },
  {
   "cell_type": "code",
   "execution_count": 48,
   "metadata": {},
   "outputs": [],
   "source": [
    "big=[]\n",
    "empty=pd.DataFrame(np.zeros((len(output_c),464)))\n",
    "big=pd.concat([output_c,empty], ignore_index=True, axis=1)\n",
    "\n",
    "for i in range(1,30):\n",
    "    temp=pd.DataFrame()\n",
    "    empty1=pd.DataFrame(np.zeros((len(output_c),16*i)))\n",
    "    temp=pd.concat([empty1,output_c],ignore_index=True, axis=1)\n",
    "    empty2=pd.DataFrame(np.zeros((len(output_c),(29-i)*16)))\n",
    "    temp=pd.concat([temp,empty2],ignore_index=True, axis=1)\n",
    "    big=big.append(temp, ignore_index=True)"
   ]
  },
  {
   "cell_type": "code",
   "execution_count": 49,
   "metadata": {},
   "outputs": [
    {
     "data": {
      "text/plain": [
       "[]"
      ]
     },
     "execution_count": 49,
     "metadata": {},
     "output_type": "execute_result"
    }
   ],
   "source": [
    "yValue = [[]]\n",
    "for key, value in test.iteritems():\n",
    "    yValue.append(value)\n",
    "yValue.pop(0)"
   ]
  },
  {
   "cell_type": "code",
   "execution_count": 51,
   "metadata": {},
   "outputs": [],
   "source": [
    "lst = []\n",
    "y_test_true = []\n",
    "for i in range(0,30):\n",
    "    lst = np.concatenate((y_test_true, yValue[i][-1530:]))\n",
    "    y_test_true = lst"
   ]
  },
  {
   "cell_type": "code",
   "execution_count": 52,
   "metadata": {
    "scrolled": true
   },
   "outputs": [],
   "source": [
    "X_test=pd.concat([big,stackedDf],ignore_index=True, axis=1)\n",
    "Y_test_true=pd.DataFrame(y_test_true)"
   ]
  },
  {
   "cell_type": "code",
   "execution_count": 53,
   "metadata": {},
   "outputs": [],
   "source": [
    "Y_test=lasso.predict(X_test)"
   ]
  },
  {
   "cell_type": "code",
   "execution_count": 54,
   "metadata": {},
   "outputs": [],
   "source": [
    "vec=Y_test\n",
    "vecdf=[]\n",
    "for i in range(0,1530):\n",
    "    temp=vec[::1530,]\n",
    "    vecdf.append(temp)\n",
    "    vec=np.delete(vec,0)\n",
    "vec_df_results=pd.DataFrame(vecdf)"
   ]
  },
  {
   "cell_type": "code",
   "execution_count": 56,
   "metadata": {},
   "outputs": [],
   "source": [
    "vec=y_test_true\n",
    "vecdf=[]\n",
    "for i in range(0,1530):\n",
    "    temp=vec[::1530,]\n",
    "    vecdf.append(temp)\n",
    "    vec=np.delete(vec,0)\n",
    "vec_df_true=pd.DataFrame(vecdf)"
   ]
  },
  {
   "cell_type": "code",
   "execution_count": 57,
   "metadata": {},
   "outputs": [],
   "source": [
    "vec_df_results.columns=test.columns.values"
   ]
  },
  {
   "cell_type": "code",
   "execution_count": 61,
   "metadata": {},
   "outputs": [],
   "source": [
    "vec_df_true.columns=test.columns.values"
   ]
  },
  {
   "cell_type": "code",
   "execution_count": 62,
   "metadata": {},
   "outputs": [],
   "source": [
    "df2 = vec_df_results\n",
    "nlargest = 5\n",
    "order = np.argsort(-df2.values, axis=1)[:, :nlargest]\n",
    "result2 = pd.DataFrame(df2.columns[order], \n",
    "                      columns=['top{}'.format(i) for i in range(1, nlargest+1)],\n",
    "                      index=df2.index)"
   ]
  },
  {
   "cell_type": "code",
   "execution_count": 63,
   "metadata": {},
   "outputs": [],
   "source": [
    "df2 = vec_df_results\n",
    "nSmallest = 5\n",
    "order = np.argsort(df2.values, axis=1)[:, :nSmallest]\n",
    "result3 = pd.DataFrame(df2.columns[order], \n",
    "                      columns=['bottom{}'.format(i) for i in range(1, nSmallest+1)],\n",
    "                      index=df2.index)"
   ]
  },
  {
   "cell_type": "code",
   "execution_count": 64,
   "metadata": {},
   "outputs": [
    {
     "data": {
      "text/html": [
       "<div>\n",
       "<style scoped>\n",
       "    .dataframe tbody tr th:only-of-type {\n",
       "        vertical-align: middle;\n",
       "    }\n",
       "\n",
       "    .dataframe tbody tr th {\n",
       "        vertical-align: top;\n",
       "    }\n",
       "\n",
       "    .dataframe thead th {\n",
       "        text-align: right;\n",
       "    }\n",
       "</style>\n",
       "<table border=\"1\" class=\"dataframe\">\n",
       "  <thead>\n",
       "    <tr style=\"text-align: right;\">\n",
       "      <th></th>\n",
       "      <th>top1</th>\n",
       "      <th>top2</th>\n",
       "      <th>top3</th>\n",
       "      <th>top4</th>\n",
       "      <th>top5</th>\n",
       "      <th>bottom1</th>\n",
       "      <th>bottom2</th>\n",
       "      <th>bottom3</th>\n",
       "      <th>bottom4</th>\n",
       "      <th>bottom5</th>\n",
       "    </tr>\n",
       "  </thead>\n",
       "  <tbody>\n",
       "    <tr>\n",
       "      <th>0</th>\n",
       "      <td>AA</td>\n",
       "      <td>DIS</td>\n",
       "      <td>AXP</td>\n",
       "      <td>MCD</td>\n",
       "      <td>GM</td>\n",
       "      <td>INTC</td>\n",
       "      <td>MRK</td>\n",
       "      <td>BA</td>\n",
       "      <td>T</td>\n",
       "      <td>MSFT</td>\n",
       "    </tr>\n",
       "    <tr>\n",
       "      <th>1</th>\n",
       "      <td>DIS</td>\n",
       "      <td>HPQ</td>\n",
       "      <td>VZ</td>\n",
       "      <td>T</td>\n",
       "      <td>INTC</td>\n",
       "      <td>C</td>\n",
       "      <td>UTX</td>\n",
       "      <td>AXP</td>\n",
       "      <td>KO</td>\n",
       "      <td>PG</td>\n",
       "    </tr>\n",
       "    <tr>\n",
       "      <th>2</th>\n",
       "      <td>PFE</td>\n",
       "      <td>GM</td>\n",
       "      <td>INTC</td>\n",
       "      <td>T</td>\n",
       "      <td>MCD</td>\n",
       "      <td>DIS</td>\n",
       "      <td>BA</td>\n",
       "      <td>C</td>\n",
       "      <td>MMM</td>\n",
       "      <td>AXP</td>\n",
       "    </tr>\n",
       "    <tr>\n",
       "      <th>3</th>\n",
       "      <td>C</td>\n",
       "      <td>AXP</td>\n",
       "      <td>DIS</td>\n",
       "      <td>PG</td>\n",
       "      <td>AA</td>\n",
       "      <td>INTC</td>\n",
       "      <td>T</td>\n",
       "      <td>VZ</td>\n",
       "      <td>PFE</td>\n",
       "      <td>UTX</td>\n",
       "    </tr>\n",
       "    <tr>\n",
       "      <th>4</th>\n",
       "      <td>BA</td>\n",
       "      <td>AXP</td>\n",
       "      <td>VZ</td>\n",
       "      <td>MRK</td>\n",
       "      <td>T</td>\n",
       "      <td>MMM</td>\n",
       "      <td>PG</td>\n",
       "      <td>MCD</td>\n",
       "      <td>DD</td>\n",
       "      <td>XOM</td>\n",
       "    </tr>\n",
       "  </tbody>\n",
       "</table>\n",
       "</div>"
      ],
      "text/plain": [
       "  top1 top2  top3 top4  top5 bottom1 bottom2 bottom3 bottom4 bottom5\n",
       "0   AA  DIS   AXP  MCD    GM    INTC     MRK      BA       T    MSFT\n",
       "1  DIS  HPQ    VZ    T  INTC       C     UTX     AXP      KO      PG\n",
       "2  PFE   GM  INTC    T   MCD     DIS      BA       C     MMM     AXP\n",
       "3    C  AXP   DIS   PG    AA    INTC       T      VZ     PFE     UTX\n",
       "4   BA  AXP    VZ  MRK     T     MMM      PG     MCD      DD     XOM"
      ]
     },
     "execution_count": 64,
     "metadata": {},
     "output_type": "execute_result"
    }
   ],
   "source": [
    "resulting=pd.concat([result2,result3], axis=1)\n",
    "resulting.head(5)"
   ]
  },
  {
   "cell_type": "code",
   "execution_count": 65,
   "metadata": {
    "scrolled": true
   },
   "outputs": [],
   "source": [
    "pnl=[]\n",
    "port=100\n",
    "for i in range(0,1530):\n",
    "    perstock=0.1*port\n",
    "    max_5=np.exp(np.array(vec_df_true.loc[i,np.array(result2.iloc[i])]))-1\n",
    "    min_5=np.exp(np.array(vec_df_true.loc[i,np.array(result3.iloc[i])]))-1\n",
    "    daily_p=0\n",
    "    daily_p=sum(perstock*max_5)-sum(perstock*min_5)\n",
    "    port=port+daily_p\n",
    "    pnl.append(port)"
   ]
  },
  {
   "cell_type": "code",
   "execution_count": 66,
   "metadata": {},
   "outputs": [
    {
     "name": "stdout",
     "output_type": "stream",
     "text": [
      "('Final portfolio value', 171.30529358316193)\n"
     ]
    }
   ],
   "source": [
    "print('Final portfolio value',port)"
   ]
  },
  {
   "cell_type": "code",
   "execution_count": 67,
   "metadata": {
    "scrolled": false
   },
   "outputs": [
    {
     "name": "stderr",
     "output_type": "stream",
     "text": [
      "/Users/shishiragrawal/.local/lib/python2.7/site-packages/pandas/plotting/_converter.py:129: FutureWarning: Using an implicitly registered datetime converter for a matplotlib plotting method. The converter was registered by pandas on import. Future versions of pandas will require you to explicitly register matplotlib converters.\n",
      "\n",
      "To register the converters:\n",
      "\t>>> from pandas.plotting import register_matplotlib_converters\n",
      "\t>>> register_matplotlib_converters()\n",
      "  warnings.warn(msg, FutureWarning)\n"
     ]
    },
    {
     "data": {
      "image/png": "[encoded data removed]",
      "text/plain": [
       "<Figure size 432x288 with 1 Axes>"
      ]
     },
     "metadata": {
      "needs_background": "light"
     },
     "output_type": "display_data"
    }
   ],
   "source": [
    "dates_test1=np.delete(np.array(dates_test),[0,1,2])\n",
    "plt.plot(dates_test1,pnl)\n",
    "plt.title('Portfolio PnL')\n",
    "plt.ylabel('PNL')\n",
    "plt.xlabel('Date')\n",
    "plt.show()"
   ]
  }
 ],
 "metadata": {
  "kernelspec": {
   "display_name": "Python 2",
   "language": "python",
   "name": "python2"
  },
  "language_info": {
   "codemirror_mode": {
    "name": "ipython",
    "version": 2
   },
   "file_extension": ".py",
   "mimetype": "text/x-python",
   "name": "python",
   "nbconvert_exporter": "python",
   "pygments_lexer": "ipython2",
   "version": "2.7.15"
  }
 },
 "nbformat": 4,
 "nbformat_minor": 2
}
